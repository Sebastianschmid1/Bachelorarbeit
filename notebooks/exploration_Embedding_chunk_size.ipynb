{
 "cells": [
  {
   "cell_type": "code",
   "execution_count": 1,
   "metadata": {},
   "outputs": [],
   "source": [
    "from dotenv import load_dotenv\n",
    "from langchain_community.vectorstores import FAISS\n",
    "from langchain_community.document_loaders import PyPDFLoader\n",
    "from langchain_openai import OpenAIEmbeddings\n",
    "import numpy as np\n",
    "import time\n",
    "from Utils.embedding import plot_results\n",
    "\n",
    "\n",
    "load_dotenv()\n",
    "\n",
    "test_text_embeddings = [\n",
    "        \"Für was steht UNA?\",\n",
    "        \"Für was steht UNH?\",\n",
    "        \"Für was steht DTM?\",\n",
    "        \"Für was steht RFF?\",\n",
    "        \"Für was steht NAD?\",\n",
    "        \"Für was steht LIN?\",\n",
    "        \"Für was steht BGM?\",\n",
    "        \"Was ist Bezeichnung für Trennzeichen?\",\n",
    "        \"Was ist Bezeichnung für Gesetzlich vorgeschriebener Text?\",\n",
    "        \"Was ist Bezeichnung für Nachrichtendatum?\",\n",
    "    ]"
   ]
  },
  {
   "cell_type": "markdown",
   "metadata": {},
   "source": [
    "Messung für \"text-embedding-3-large\" durchläufen mit 10 Fragen chunk_size=1"
   ]
  },
  {
   "cell_type": "code",
   "execution_count": 2,
   "metadata": {},
   "outputs": [
    {
     "name": "stderr",
     "output_type": "stream",
     "text": [
      "<>:7: SyntaxWarning: invalid escape sequence '\\M'\n",
      "<>:7: SyntaxWarning: invalid escape sequence '\\M'\n",
      "C:\\Users\\sebas\\AppData\\Local\\Temp\\ipykernel_14360\\1462801016.py:7: SyntaxWarning: invalid escape sequence '\\M'\n",
      "  \"pdfs\\MIG_VDA4938T2_eingehend_v.2.6_DE.pdf\",\n"
     ]
    },
    {
     "name": "stdout",
     "output_type": "stream",
     "text": [
      "::::::::::::::::::::::::::::::::::::::::::::::::::::::::::::\n",
      "Segmente  \n",
      " \n",
      "Bez = Objekt-Bezeichner, Nr = Laufende Segmentnumme r im Guide, MaxWdh = Maximale Wiederholung der Segm ente/Gruppen  \n",
      "St = Status, M=Muss, C=Kann, R=Gefordert, O=Optiona l, D=Abhängig  von , A=Empfohlen, N=Nicht benutzt  \n",
      "  Seite:12 /96  \n",
      " \n",
      " Zähler     Nr  Bez   St  MaxWdh  Ebene  Name  \n",
      "  \n",
      " 0000 1   UNA   O 1 0  Trennzeichen-Vorgabe  \n",
      "  \n",
      " Standard  Implementierung  \n",
      "Bez  Name  St  Format   St  Format Beispiel  Anwendung / Bemerkung  \n",
      "UNA       UNA  \n",
      "UNA1  Gruppendatenelement-  \n",
      "Trennzeichen  M an1   M an1 : Doppelpunkt  \n",
      "UNA2  Segment-Bezeichner- und  \n",
      "Datenelement -Trennzeichen  M an1   M an1 + Pluszeichen  \n",
      "UNA3  Dezimalzeichen  M an1   M an1  . Punkt  \n",
      "UNA4  Freigabezeichen  M an1   M an1  ? Fragezeichen  \n",
      "UNA5  Reserviert für spätere  \n",
      "Verwendung  M an1   M an1  Leerzeichen  \n",
      "UNA6  Segment -Endezeichen  M an1   M an1  ' Hochkomma  \n",
      " Beispiel  UNA:+.? '\n",
      "Das erzeugen der Embeddings hat 74.28082013130188 Sekunden gedauert.\n"
     ]
    }
   ],
   "source": [
    "embeddings = OpenAIEmbeddings(model=\"text-embedding-3-large\", chunk_size=1)\n",
    "t1 = time.time()\n",
    "for i in range(1):\n",
    "\n",
    "    results = []\n",
    "    loader = PyPDFLoader(\n",
    "        \"pdfs\\MIG_VDA4938T2_eingehend_v.2.6_DE.pdf\",\n",
    "        extract_images=False,\n",
    "    )\n",
    "    pages = loader.load_and_split()\n",
    "    faiss_index = FAISS.from_documents(pages, embeddings)\n",
    "print(f\"::::::::::::::::::::::::::::::::::::::::::::::::::::::::::::\")\n",
    "print(faiss_index.similarity_search_with_score(test_text_embeddings[0], 1)[0][0].page_content)\n",
    "print(f\"Das erzeugen der Embeddings hat {time.time() - t1} Sekunden gedauert.\")"
   ]
  },
  {
   "cell_type": "markdown",
   "metadata": {},
   "source": [
    "Messung für \"text-embedding-3-small\" durchläufen mit 10 Fragen chunk_size=2"
   ]
  },
  {
   "cell_type": "code",
   "execution_count": 3,
   "metadata": {},
   "outputs": [
    {
     "name": "stderr",
     "output_type": "stream",
     "text": [
      "<>:7: SyntaxWarning: invalid escape sequence '\\M'\n",
      "<>:7: SyntaxWarning: invalid escape sequence '\\M'\n",
      "C:\\Users\\sebas\\AppData\\Local\\Temp\\ipykernel_14360\\660202543.py:7: SyntaxWarning: invalid escape sequence '\\M'\n",
      "  \"pdfs\\MIG_VDA4938T2_eingehend_v.2.6_DE.pdf\",\n"
     ]
    },
    {
     "name": "stdout",
     "output_type": "stream",
     "text": [
      "::::::::::::::::::::::::::::::::::::::::::::::::::::::::::::\n",
      "Segmente  \n",
      " \n",
      "Bez = Objekt-Bezeichner, Nr = Laufende Segmentnumme r im Guide, MaxWdh = Maximale Wiederholung der Segm ente/Gruppen  \n",
      "St = Status, M=Muss, C=Kann, R=Gefordert, O=Optiona l, D=Abhängig  von , A=Empfohlen, N=Nicht benutzt  \n",
      "  Seite:12 /96  \n",
      " \n",
      " Zähler     Nr  Bez   St  MaxWdh  Ebene  Name  \n",
      "  \n",
      " 0000 1   UNA   O 1 0  Trennzeichen-Vorgabe  \n",
      "  \n",
      " Standard  Implementierung  \n",
      "Bez  Name  St  Format   St  Format Beispiel  Anwendung / Bemerkung  \n",
      "UNA       UNA  \n",
      "UNA1  Gruppendatenelement-  \n",
      "Trennzeichen  M an1   M an1 : Doppelpunkt  \n",
      "UNA2  Segment-Bezeichner- und  \n",
      "Datenelement -Trennzeichen  M an1   M an1 + Pluszeichen  \n",
      "UNA3  Dezimalzeichen  M an1   M an1  . Punkt  \n",
      "UNA4  Freigabezeichen  M an1   M an1  ? Fragezeichen  \n",
      "UNA5  Reserviert für spätere  \n",
      "Verwendung  M an1   M an1  Leerzeichen  \n",
      "UNA6  Segment -Endezeichen  M an1   M an1  ' Hochkomma  \n",
      " Beispiel  UNA:+.? '\n",
      "Das erzeugen der Embeddings hat 54.97012448310852 Sekunden gedauert.\n"
     ]
    }
   ],
   "source": [
    "embeddings = OpenAIEmbeddings(model=\"text-embedding-3-large\", chunk_size=2)\n",
    "t1 = time.time()\n",
    "for i in range(1):\n",
    "\n",
    "    results = []\n",
    "    loader = PyPDFLoader(\n",
    "        \"pdfs\\MIG_VDA4938T2_eingehend_v.2.6_DE.pdf\",\n",
    "        extract_images=False,\n",
    "    )\n",
    "    pages = loader.load_and_split()\n",
    "    faiss_index = FAISS.from_documents(pages, embeddings)\n",
    "print(f\"::::::::::::::::::::::::::::::::::::::::::::::::::::::::::::\")\n",
    "print(faiss_index.similarity_search_with_score(test_text_embeddings[0], 1)[0][0].page_content)\n",
    "print(f\"Das erzeugen der Embeddings hat {time.time() - t1} Sekunden gedauert.\")"
   ]
  },
  {
   "cell_type": "markdown",
   "metadata": {},
   "source": [
    "Messung für \"text-embedding-ada-002\" durchläufen mit 10 Fragen chunk_size=2"
   ]
  },
  {
   "cell_type": "code",
   "execution_count": 5,
   "metadata": {},
   "outputs": [
    {
     "name": "stderr",
     "output_type": "stream",
     "text": [
      "<>:7: SyntaxWarning: invalid escape sequence '\\M'\n",
      "<>:7: SyntaxWarning: invalid escape sequence '\\M'\n",
      "C:\\Users\\sebas\\AppData\\Local\\Temp\\ipykernel_14360\\1942447132.py:7: SyntaxWarning: invalid escape sequence '\\M'\n",
      "  \"pdfs\\MIG_VDA4938T2_eingehend_v.2.6_DE.pdf\",\n"
     ]
    },
    {
     "name": "stdout",
     "output_type": "stream",
     "text": [
      "::::::::::::::::::::::::::::::::::::::::::::::::::::::::::::\n",
      "Segmente  \n",
      " \n",
      "Bez = Objekt-Bezeichner, Nr = Laufende Segmentnumme r im Guide, MaxWdh = Maximale Wiederholung der Segm ente/Gruppen  \n",
      "St = Status, M=Muss, C=Kann, R=Gefordert, O=Optiona l, D=Abhängig  von , A=Empfohlen, N=Nicht benutzt  \n",
      "  Seite:12 /96  \n",
      " \n",
      " Zähler     Nr  Bez   St  MaxWdh  Ebene  Name  \n",
      "  \n",
      " 0000 1   UNA   O 1 0  Trennzeichen-Vorgabe  \n",
      "  \n",
      " Standard  Implementierung  \n",
      "Bez  Name  St  Format   St  Format Beispiel  Anwendung / Bemerkung  \n",
      "UNA       UNA  \n",
      "UNA1  Gruppendatenelement-  \n",
      "Trennzeichen  M an1   M an1 : Doppelpunkt  \n",
      "UNA2  Segment-Bezeichner- und  \n",
      "Datenelement -Trennzeichen  M an1   M an1 + Pluszeichen  \n",
      "UNA3  Dezimalzeichen  M an1   M an1  . Punkt  \n",
      "UNA4  Freigabezeichen  M an1   M an1  ? Fragezeichen  \n",
      "UNA5  Reserviert für spätere  \n",
      "Verwendung  M an1   M an1  Leerzeichen  \n",
      "UNA6  Segment -Endezeichen  M an1   M an1  ' Hochkomma  \n",
      " Beispiel  UNA:+.? '\n",
      "Das erzeugen der Embeddings hat 51.22849369049072 Sekunden gedauert.\n"
     ]
    }
   ],
   "source": [
    "embeddings = OpenAIEmbeddings(model=\"text-embedding-3-large\", chunk_size=3)\n",
    "t1 = time.time()\n",
    "for i in range(1):\n",
    "\n",
    "    results = []\n",
    "    loader = PyPDFLoader(\n",
    "        \"pdfs\\MIG_VDA4938T2_eingehend_v.2.6_DE.pdf\",\n",
    "        extract_images=False,\n",
    "    )\n",
    "    pages = loader.load_and_split()\n",
    "    faiss_index = FAISS.from_documents(pages, embeddings)\n",
    "print(f\"::::::::::::::::::::::::::::::::::::::::::::::::::::::::::::\")\n",
    "print(\n",
    "    faiss_index.similarity_search_with_score(test_text_embeddings[0], 1)[0][\n",
    "        0\n",
    "    ].page_content\n",
    ")\n",
    "print(f\"Das erzeugen der Embeddings hat {time.time() - t1} Sekunden gedauert.\")"
   ]
  },
  {
   "cell_type": "code",
   "execution_count": null,
   "metadata": {},
   "outputs": [],
   "source": []
  }
 ],
 "metadata": {
  "kernelspec": {
   "display_name": "Python 3 (ipykernel)",
   "language": "python",
   "name": "python3"
  },
  "language_info": {
   "codemirror_mode": {
    "name": "ipython",
    "version": 3
   },
   "file_extension": ".py",
   "mimetype": "text/x-python",
   "name": "python",
   "nbconvert_exporter": "python",
   "pygments_lexer": "ipython3",
   "version": "3.12.3"
  }
 },
 "nbformat": 4,
 "nbformat_minor": 4
}
