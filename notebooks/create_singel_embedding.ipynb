{
 "cells": [
  {
   "cell_type": "code",
   "execution_count": 20,
   "metadata": {},
   "outputs": [],
   "source": [
    "from openai import OpenAI\n",
    "from dotenv import load_dotenv\n",
    "from langchain_community.vectorstores import FAISS\n",
    "import pandas as pd\n",
    "load_dotenv()\n",
    "\n",
    "\n",
    "client = OpenAI()\n",
    "\n",
    "embedding_list = []\n",
    "input_texts = [\n",
    "    \"Bachelorsarbeit\",\n",
    "    \"König\",\n",
    "    \"Königin\",\n",
    "    \"Prinz\",\n",
    "    \"Monarchie\",\n",
    "    \"Auto\",\n",
    "    \"Hallo mein Name ist Sebastian\",\n",
    "]\n",
    "def get_embedding(input_text):\n",
    "    return client.embeddings.create(\n",
    "        model=\"text-embedding-ada-002\",\n",
    "        input=input_text,\n",
    "        encoding_format=\"float\",\n",
    "    )"
   ]
  },
  {
   "cell_type": "markdown",
   "metadata": {},
   "source": [
    "Erzeuge aus der liste \"input_texts\" embeddings."
   ]
  },
  {
   "cell_type": "code",
   "execution_count": 21,
   "metadata": {},
   "outputs": [],
   "source": [
    "for input_text in input_texts:\n",
    "    embedding = get_embedding(input_text)\n",
    "    embedding_list.append(\n",
    "        [input_text, embedding.data[0].embedding, len(embedding.data[0].embedding)]\n",
    "    )"
   ]
  },
  {
   "cell_type": "markdown",
   "metadata": {},
   "source": [
    "Speicher der Ergebnisse in ein Dataframe."
   ]
  },
  {
   "cell_type": "code",
   "execution_count": 22,
   "metadata": {},
   "outputs": [
    {
     "data": {
      "text/html": [
       "<div>\n",
       "<style scoped>\n",
       "    .dataframe tbody tr th:only-of-type {\n",
       "        vertical-align: middle;\n",
       "    }\n",
       "\n",
       "    .dataframe tbody tr th {\n",
       "        vertical-align: top;\n",
       "    }\n",
       "\n",
       "    .dataframe thead th {\n",
       "        text-align: right;\n",
       "    }\n",
       "</style>\n",
       "<table border=\"1\" class=\"dataframe\">\n",
       "  <thead>\n",
       "    <tr style=\"text-align: right;\">\n",
       "      <th></th>\n",
       "      <th>Wort</th>\n",
       "      <th>Embedding</th>\n",
       "      <th>Länge des Embedding</th>\n",
       "    </tr>\n",
       "  </thead>\n",
       "  <tbody>\n",
       "    <tr>\n",
       "      <th>0</th>\n",
       "      <td>Bachelorsarbeit</td>\n",
       "      <td>[0.016256958, -0.0020064777, 0.008179762, -0.0...</td>\n",
       "      <td>1536</td>\n",
       "    </tr>\n",
       "    <tr>\n",
       "      <th>1</th>\n",
       "      <td>König</td>\n",
       "      <td>[0.012617611, -0.0013380619, 0.0037014647, -0....</td>\n",
       "      <td>1536</td>\n",
       "    </tr>\n",
       "    <tr>\n",
       "      <th>2</th>\n",
       "      <td>Königin</td>\n",
       "      <td>[0.0044669667, -0.008479455, 0.0017011829, -0....</td>\n",
       "      <td>1536</td>\n",
       "    </tr>\n",
       "    <tr>\n",
       "      <th>3</th>\n",
       "      <td>Prinz</td>\n",
       "      <td>[0.013801491, -0.022512054, 0.010123263, -0.00...</td>\n",
       "      <td>1536</td>\n",
       "    </tr>\n",
       "    <tr>\n",
       "      <th>4</th>\n",
       "      <td>Monarchie</td>\n",
       "      <td>[-0.00060751155, -0.010041922, -0.00060596474,...</td>\n",
       "      <td>1536</td>\n",
       "    </tr>\n",
       "    <tr>\n",
       "      <th>5</th>\n",
       "      <td>Auto</td>\n",
       "      <td>[-0.015648102, -0.018671824, 0.0024646109, -0....</td>\n",
       "      <td>1536</td>\n",
       "    </tr>\n",
       "    <tr>\n",
       "      <th>6</th>\n",
       "      <td>Hallo mein Name ist Sebastian</td>\n",
       "      <td>[-0.007581762, 0.0034009619, -0.0031487523, -0...</td>\n",
       "      <td>1536</td>\n",
       "    </tr>\n",
       "  </tbody>\n",
       "</table>\n",
       "</div>"
      ],
      "text/plain": [
       "                            Wort  \\\n",
       "0                Bachelorsarbeit   \n",
       "1                          König   \n",
       "2                        Königin   \n",
       "3                          Prinz   \n",
       "4                      Monarchie   \n",
       "5                           Auto   \n",
       "6  Hallo mein Name ist Sebastian   \n",
       "\n",
       "                                           Embedding  Länge des Embedding  \n",
       "0  [0.016256958, -0.0020064777, 0.008179762, -0.0...                 1536  \n",
       "1  [0.012617611, -0.0013380619, 0.0037014647, -0....                 1536  \n",
       "2  [0.0044669667, -0.008479455, 0.0017011829, -0....                 1536  \n",
       "3  [0.013801491, -0.022512054, 0.010123263, -0.00...                 1536  \n",
       "4  [-0.00060751155, -0.010041922, -0.00060596474,...                 1536  \n",
       "5  [-0.015648102, -0.018671824, 0.0024646109, -0....                 1536  \n",
       "6  [-0.007581762, 0.0034009619, -0.0031487523, -0...                 1536  "
      ]
     },
     "execution_count": 22,
     "metadata": {},
     "output_type": "execute_result"
    }
   ],
   "source": [
    "df = pd.DataFrame(embedding_list, columns=[\"Wort\", \"Embedding\", \"Länge des Embedding\"])\n",
    "df"
   ]
  },
  {
   "cell_type": "code",
   "execution_count": 31,
   "metadata": {},
   "outputs": [],
   "source": [
    "from langchain_openai import OpenAIEmbeddings\n",
    "\n",
    "results = []\n",
    "db = FAISS.from_texts(input_texts, OpenAIEmbeddings())\n",
    "results_koenig = db.similarity_search_with_score(\"König\",6)\n",
    "df = pd.DataFrame(\n",
    "    [\n",
    "        [result_koenig[0].page_content, result_koenig[1]]\n",
    "        for result_koenig in results_koenig\n",
    "    ],\n",
    "    columns=[\"Wort\", \"Score\"],\n",
    ")"
   ]
  },
  {
   "cell_type": "code",
   "execution_count": 32,
   "metadata": {},
   "outputs": [
    {
     "data": {
      "text/html": [
       "<div>\n",
       "<style scoped>\n",
       "    .dataframe tbody tr th:only-of-type {\n",
       "        vertical-align: middle;\n",
       "    }\n",
       "\n",
       "    .dataframe tbody tr th {\n",
       "        vertical-align: top;\n",
       "    }\n",
       "\n",
       "    .dataframe thead th {\n",
       "        text-align: right;\n",
       "    }\n",
       "</style>\n",
       "<table border=\"1\" class=\"dataframe\">\n",
       "  <thead>\n",
       "    <tr style=\"text-align: right;\">\n",
       "      <th></th>\n",
       "      <th>Wort</th>\n",
       "      <th>Score</th>\n",
       "    </tr>\n",
       "  </thead>\n",
       "  <tbody>\n",
       "    <tr>\n",
       "      <th>0</th>\n",
       "      <td>König</td>\n",
       "      <td>0.000000</td>\n",
       "    </tr>\n",
       "    <tr>\n",
       "      <th>1</th>\n",
       "      <td>Königin</td>\n",
       "      <td>0.150474</td>\n",
       "    </tr>\n",
       "    <tr>\n",
       "      <th>2</th>\n",
       "      <td>Prinz</td>\n",
       "      <td>0.224285</td>\n",
       "    </tr>\n",
       "    <tr>\n",
       "      <th>3</th>\n",
       "      <td>Monarchie</td>\n",
       "      <td>0.297962</td>\n",
       "    </tr>\n",
       "    <tr>\n",
       "      <th>4</th>\n",
       "      <td>Hallo mein Name ist Sebastian</td>\n",
       "      <td>0.417806</td>\n",
       "    </tr>\n",
       "    <tr>\n",
       "      <th>5</th>\n",
       "      <td>Bachelorsarbeit</td>\n",
       "      <td>0.420918</td>\n",
       "    </tr>\n",
       "  </tbody>\n",
       "</table>\n",
       "</div>"
      ],
      "text/plain": [
       "                            Wort     Score\n",
       "0                          König  0.000000\n",
       "1                        Königin  0.150474\n",
       "2                          Prinz  0.224285\n",
       "3                      Monarchie  0.297962\n",
       "4  Hallo mein Name ist Sebastian  0.417806\n",
       "5                Bachelorsarbeit  0.420918"
      ]
     },
     "execution_count": 32,
     "metadata": {},
     "output_type": "execute_result"
    },
    {
     "ename": "",
     "evalue": "",
     "output_type": "error",
     "traceback": [
      "\u001b[1;31mThe Kernel crashed while executing code in the current cell or a previous cell. \n",
      "\u001b[1;31mPlease review the code in the cell(s) to identify a possible cause of the failure. \n",
      "\u001b[1;31mClick <a href='https://aka.ms/vscodeJupyterKernelCrash'>here</a> for more info. \n",
      "\u001b[1;31mView Jupyter <a href='command:jupyter.viewOutput'>log</a> for further details."
     ]
    }
   ],
   "source": [
    "df\n"
   ]
  }
 ],
 "metadata": {
  "kernelspec": {
   "display_name": "venv",
   "language": "python",
   "name": "python3"
  },
  "language_info": {
   "codemirror_mode": {
    "name": "ipython",
    "version": 3
   },
   "file_extension": ".py",
   "mimetype": "text/x-python",
   "name": "python",
   "nbconvert_exporter": "python",
   "pygments_lexer": "ipython3",
   "version": "3.12.3"
  }
 },
 "nbformat": 4,
 "nbformat_minor": 2
}
